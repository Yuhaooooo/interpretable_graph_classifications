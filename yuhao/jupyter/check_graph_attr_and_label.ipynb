{
 "cells": [
  {
   "cell_type": "markdown",
   "metadata": {},
   "source": [
    "## What this jupyter is for"
   ]
  },
  {
   "cell_type": "markdown",
   "metadata": {},
   "source": [
    "This jupyter is to check the graphs from four datasets in GCN\n",
    "- node \n",
    " - attri\n",
    " - label\n",
    "- edge\n",
    " - attri\n",
    " - label"
   ]
  },
  {
   "cell_type": "code",
   "execution_count": 39,
   "metadata": {},
   "outputs": [],
   "source": [
    "min_dfscode_tensor_path = '/home/FYP/heyu0012/projects/interpretable_graph_classifications/data/TOX21_AR/graphgen/min_dfscodes'"
   ]
  },
  {
   "cell_type": "code",
   "execution_count": 44,
   "metadata": {},
   "outputs": [
    {
     "ename": "TypeError",
     "evalue": "list indices must be integers or slices, not tuple",
     "output_type": "error",
     "traceback": [
      "\u001b[0;31m---------------------------------------------------------------------------\u001b[0m",
      "\u001b[0;31mTypeError\u001b[0m                                 Traceback (most recent call last)",
      "\u001b[0;32m<ipython-input-44-110b4b4d2beb>\u001b[0m in \u001b[0;36m<module>\u001b[0;34m\u001b[0m\n\u001b[0;32m----> 1\u001b[0;31m \u001b[0;34m[\u001b[0m\u001b[0;36m1\u001b[0m\u001b[0;34m,\u001b[0m\u001b[0;36m2\u001b[0m\u001b[0;34m,\u001b[0m\u001b[0;36m3\u001b[0m\u001b[0;34m]\u001b[0m\u001b[0;34m[\u001b[0m\u001b[0;36m0\u001b[0m\u001b[0;34m,\u001b[0m\u001b[0;36m1\u001b[0m\u001b[0;34m]\u001b[0m\u001b[0;34m\u001b[0m\u001b[0;34m\u001b[0m\u001b[0m\n\u001b[0m",
      "\u001b[0;31mTypeError\u001b[0m: list indices must be integers or slices, not tuple"
     ]
    }
   ],
   "source": [
    "[1,2,3][0,1]"
   ]
  },
  {
   "cell_type": "code",
   "execution_count": 4,
   "metadata": {},
   "outputs": [
    {
     "name": "stdout",
     "output_type": "stream",
     "text": [
      "MUTAG.p\t\t\tMUTAG_graph_indicator.txt  README.txt\r\n",
      "MUTAG_A.txt\t\tMUTAG_graph_labels.txt\t   graphgen\r\n",
      "MUTAG_class_0_graphsig\tMUTAG_label_0\t\t   label_map.json\r\n",
      "MUTAG_class_1_graphsig\tMUTAG_label_1\r\n",
      "MUTAG_edge_labels.txt\tMUTAG_node_labels.txt\r\n"
     ]
    }
   ],
   "source": [
    "!ls ../../data/MUTAG"
   ]
  },
  {
   "cell_type": "code",
   "execution_count": 22,
   "metadata": {},
   "outputs": [],
   "source": [
    "def get_attributes_of_node(G, name):\n",
    "    return G.nodes[name]\n",
    "\n",
    "def get_attributes_of_all_nodes(G):\n",
    "    node_attribute_map = {}\n",
    "    for n in list(G):\n",
    "        node_attribute_map[n] = get_attributes_of_node(G, n)\n",
    "    return node_attribute_map\n",
    "\n",
    "def get_attributes_of_edge(G, name):\n",
    "    return G.edges[name]\n",
    "\n",
    "def get_attributes_of_all_edges(G):\n",
    "    edge_attribute_map = {}\n",
    "    for e in list(G.edges):\n",
    "        edge_attribute_map[e] = get_attributes_of_edge(G, e)\n",
    "    return edge_attribute_map\n"
   ]
  },
  {
   "cell_type": "code",
   "execution_count": 28,
   "metadata": {},
   "outputs": [
    {
     "name": "stdout",
     "output_type": "stream",
     "text": [
      "MUTAG 188\n",
      "\n",
      "\n",
      "{'label': 1}\n",
      "\n",
      "\n",
      "{2: {'label': '0'}, 1: {'label': '0'}, 3: {'label': '0'}, 4: {'label': '0'}, 5: {'label': '0'}, 6: {'label': '0'}, 7: {'label': '0'}, 8: {'label': '0'}, 9: {'label': '0'}, 10: {'label': '0'}, 11: {'label': '0'}, 12: {'label': '0'}, 13: {'label': '0'}, 14: {'label': '0'}, 15: {'label': '1'}, 16: {'label': '2'}, 17: {'label': '2'}}\n",
      "\n",
      "\n",
      "{(2, 1): {}, (2, 3): {}, (1, 6): {}, (3, 4): {}, (4, 5): {}, (4, 10): {}, (5, 6): {}, (5, 7): {}, (7, 8): {}, (8, 9): {}, (9, 10): {}, (9, 14): {}, (10, 11): {}, (11, 12): {}, (12, 13): {}, (13, 14): {}, (13, 15): {}, (15, 16): {}, (15, 17): {}}\n",
      "\n",
      "\n",
      "\n",
      "NCI-H23 2500\n",
      "\n",
      "\n",
      "{'label': 0}\n",
      "\n",
      "\n",
      "{824234: {'label': '3'}, 824243: {'label': '2'}, 824245: {'label': '2'}, 824235: {'label': '0'}, 824253: {'label': '2'}, 824236: {'label': '1'}, 824237: {'label': '1'}, 824239: {'label': '2'}, 824240: {'label': '2'}, 824238: {'label': '1'}, 824246: {'label': '2'}, 824241: {'label': '2'}, 824242: {'label': '2'}, 824244: {'label': '2'}, 824247: {'label': '2'}, 824248: {'label': '2'}, 824249: {'label': '2'}, 824250: {'label': '2'}, 824254: {'label': '2'}, 824251: {'label': '2'}, 824252: {'label': '2'}, 824256: {'label': '2'}, 824257: {'label': '2'}, 824255: {'label': '2'}, 824259: {'label': '2'}, 824258: {'label': '2'}, 824261: {'label': '2'}, 824260: {'label': '2'}, 824263: {'label': '2'}, 824264: {'label': '2'}, 824262: {'label': '2'}, 824265: {'label': '2'}, 824266: {'label': '2'}, 824267: {'label': '2'}}\n",
      "\n",
      "\n",
      "{(824234, 824243): {}, (824234, 824245): {}, (824243, 824236): {}, (824243, 824238): {}, (824245, 824246): {}, (824245, 824253): {}, (824235, 824253): {}, (824253, 824259): {}, (824236, 824237): {}, (824236, 824239): {}, (824237, 824240): {}, (824239, 824241): {}, (824239, 824242): {}, (824240, 824241): {}, (824240, 824244): {}, (824238, 824246): {}, (824246, 824254): {}, (824242, 824247): {}, (824242, 824248): {}, (824244, 824249): {}, (824244, 824250): {}, (824247, 824251): {}, (824248, 824252): {}, (824249, 824256): {}, (824250, 824257): {}, (824251, 824255): {}, (824252, 824255): {}, (824256, 824258): {}, (824257, 824258): {}, (824259, 824261): {}, (824261, 824260): {}, (824260, 824263): {}, (824260, 824264): {}, (824263, 824265): {}, (824264, 824266): {}, (824262, 824265): {}, (824262, 824266): {}, (824262, 824267): {}}\n",
      "\n",
      "\n",
      "\n",
      "PTC_FR 351\n",
      "\n",
      "\n",
      "{'label': 1}\n",
      "\n",
      "\n",
      "{2: {'label': '1'}, 1: {'label': '0'}}\n",
      "\n",
      "\n",
      "{(2, 1): {}}\n",
      "\n",
      "\n",
      "\n",
      "TOX21_AR 9349\n",
      "\n",
      "\n",
      "{'label': 0}\n",
      "\n",
      "\n",
      "{1: {'label': '1'}, 2: {'label': '1'}, 3: {'label': '1'}, 4: {'label': '1'}, 7: {'label': '1'}, 5: {'label': '1'}, 6: {'label': '1'}, 9: {'label': '2'}, 8: {'label': '1'}, 10: {'label': '1'}, 11: {'label': '1'}, 12: {'label': '2'}, 13: {'label': '1'}, 76: {'label': '1'}, 14: {'label': '0'}, 15: {'label': '2'}, 16: {'label': '1'}, 17: {'label': '1'}, 18: {'label': '1'}, 19: {'label': '0'}, 20: {'label': '2'}, 21: {'label': '0'}, 22: {'label': '1'}, 23: {'label': '1'}, 24: {'label': '1'}, 27: {'label': '1'}, 25: {'label': '2'}, 26: {'label': '0'}, 34: {'label': '1'}, 28: {'label': '1'}, 29: {'label': '1'}, 30: {'label': '1'}, 31: {'label': '1'}, 32: {'label': '1'}, 33: {'label': '0'}, 35: {'label': '1'}, 36: {'label': '1'}, 44: {'label': '1'}, 37: {'label': '2'}, 38: {'label': '0'}, 39: {'label': '1'}, 40: {'label': '1'}, 41: {'label': '1'}, 53: {'label': '1'}, 42: {'label': '2'}, 43: {'label': '0'}, 56: {'label': '1'}, 45: {'label': '1'}, 46: {'label': '1'}, 49: {'label': '1'}, 47: {'label': '1'}, 48: {'label': '2'}, 51: {'label': '1'}, 50: {'label': '1'}, 52: {'label': '1'}, 54: {'label': '1'}, 55: {'label': '1'}, 57: {'label': '1'}, 58: {'label': '1'}, 59: {'label': '0'}, 60: {'label': '2'}, 62: {'label': '1'}, 67: {'label': '1'}, 68: {'label': '1'}, 61: {'label': '1'}, 63: {'label': '2'}, 64: {'label': '1'}, 65: {'label': '2'}, 66: {'label': '2'}, 69: {'label': '1'}, 70: {'label': '1'}, 71: {'label': '1'}, 72: {'label': '0'}, 73: {'label': '2'}, 74: {'label': '1'}, 75: {'label': '1'}, 77: {'label': '0'}, 78: {'label': '1'}, 79: {'label': '1'}, 80: {'label': '2'}, 81: {'label': '1'}, 86: {'label': '1'}, 82: {'label': '2'}, 83: {'label': '1'}, 84: {'label': '1'}, 85: {'label': '2'}, 87: {'label': '1'}, 88: {'label': '0'}, 89: {'label': '1'}, 90: {'label': '2'}, 91: {'label': '1'}, 92: {'label': '1'}, 93: {'label': '0'}, 94: {'label': '1'}, 95: {'label': '0'}, 96: {'label': '0'}, 97: {'label': '1'}}\n",
      "\n",
      "\n",
      "{(1, 2): {}, (1, 3): {}, (2, 4): {}, (2, 7): {}, (3, 5): {}, (4, 6): {}, (4, 9): {}, (7, 8): {}, (7, 10): {}, (5, 6): {}, (9, 8): {}, (10, 11): {}, (11, 12): {}, (11, 13): {}, (12, 76): {}, (13, 14): {}, (13, 15): {}, (76, 77): {}, (76, 78): {}, (15, 16): {}, (16, 17): {}, (16, 18): {}, (17, 19): {}, (18, 20): {}, (18, 21): {}, (20, 22): {}, (22, 23): {}, (22, 24): {}, (23, 27): {}, (24, 25): {}, (24, 26): {}, (27, 28): {}, (27, 29): {}, (25, 34): {}, (34, 35): {}, (34, 36): {}, (28, 30): {}, (29, 31): {}, (30, 32): {}, (31, 32): {}, (32, 33): {}, (35, 44): {}, (36, 37): {}, (36, 38): {}, (44, 45): {}, (44, 46): {}, (37, 39): {}, (39, 40): {}, (39, 41): {}, (40, 53): {}, (41, 42): {}, (41, 43): {}, (53, 54): {}, (53, 55): {}, (42, 56): {}, (56, 57): {}, (56, 58): {}, (45, 49): {}, (45, 47): {}, (46, 48): {}, (49, 50): {}, (47, 48): {}, (47, 51): {}, (51, 52): {}, (50, 52): {}, (57, 59): {}, (57, 60): {}, (58, 62): {}, (60, 67): {}, (60, 68): {}, (62, 61): {}, (67, 69): {}, (68, 70): {}, (68, 71): {}, (61, 63): {}, (63, 64): {}, (64, 65): {}, (64, 66): {}, (69, 70): {}, (71, 72): {}, (71, 73): {}, (73, 74): {}, (74, 75): {}, (78, 79): {}, (78, 80): {}, (79, 81): {}, (80, 86): {}, (81, 82): {}, (81, 83): {}, (86, 87): {}, (86, 88): {}, (82, 84): {}, (83, 85): {}, (84, 85): {}, (87, 89): {}, (87, 90): {}, (89, 91): {}, (90, 92): {}, (91, 92): {}, (92, 93): {}, (94, 95): {}, (94, 96): {}, (94, 97): {}}\n",
      "\n",
      "\n",
      "\n"
     ]
    }
   ],
   "source": [
    "import pickle\n",
    "\n",
    "datasets = ['MUTAG', 'NCI-H23', 'PTC_FR', 'TOX21_AR']\n",
    "\n",
    "for d in datasets:\n",
    "    \n",
    "    path = f'../../data/{d}/{d}.p'\n",
    "    \n",
    "    with open(path, 'rb') as pickled_file:\n",
    "        nxgraph_list = pickle.load(pickled_file)\n",
    "        pickled_file.close()\n",
    "        \n",
    "    print(d, len(nxgraph_list))\n",
    "    print('\\n')\n",
    "    print(nxgraph_list[0].graph)\n",
    "    print('\\n')\n",
    "    print(get_attributes_of_all_nodes(nxgraph_list[0]))\n",
    "    print('\\n')\n",
    "    print(get_attributes_of_all_edges(nxgraph_list[0]))\n",
    "    print('\\n\\n')"
   ]
  },
  {
   "cell_type": "code",
   "execution_count": null,
   "metadata": {},
   "outputs": [],
   "source": []
  },
  {
   "cell_type": "code",
   "execution_count": null,
   "metadata": {},
   "outputs": [],
   "source": []
  }
 ],
 "metadata": {
  "kernelspec": {
   "display_name": "Python 3.6.12 64-bit ('GCNN_GAP_graphgen': conda)",
   "language": "python",
   "name": "python361264bitgcnngapgraphgenconda31d76faa414b4778abf5b985fd4741c5"
  },
  "language_info": {
   "codemirror_mode": {
    "name": "ipython",
    "version": 3
   },
   "file_extension": ".py",
   "mimetype": "text/x-python",
   "name": "python",
   "nbconvert_exporter": "python",
   "pygments_lexer": "ipython3",
   "version": "3.6.12"
  }
 },
 "nbformat": 4,
 "nbformat_minor": 4
}
