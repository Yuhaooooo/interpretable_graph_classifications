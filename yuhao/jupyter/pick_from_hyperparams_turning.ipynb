{
 "cells": [
  {
   "cell_type": "code",
   "execution_count": null,
   "metadata": {},
   "outputs": [],
   "source": [
    "## For hyparams turning\n",
    "\n",
    "import os, sys\n",
    "\n",
    "rnn_type = 'GRU'\n",
    "# rnn_type = 'LSTM'\n",
    "dataset = 'MUTAG'\n",
    "\n",
    "results_path = '/home/FYP/heyu0012/projects/interpretable_graph_classifications/results/logs'\n",
    "\n",
    "results_path = os.path.join(results_path, rnn_type, 'turning', dataset)\n",
    "\n",
    "# mapping={\n",
    "#     'acc': 0,\n",
    "#     'roc': 1,\n",
    "#     'prc': 2,\n",
    "#     'forward': 3,\n",
    "#     'backward': 4\n",
    "# }\n",
    "\n",
    "def extract_metrics(s):\n",
    "    s = s.strip()\n",
    "    acc = round(float(s.split(' ')[2]),4)\n",
    "    roc = round(float(s.split(' ')[5]),4)\n",
    "    prc = round(float(s.split(' ')[8]),4)\n",
    "    return [acc, roc, prc]\n",
    "\n",
    "def extract_time(s):\n",
    "    s = s.strip()\n",
    "    return round(float(s.split(' ')[-1]),4)\n",
    "\n",
    "def get_sort(metrics, proportion=[1,0,0]):\n",
    "    # linear combination of metrics\n",
    "    metrics = metrics.copy()\n",
    "    for k in metrics.keys():\n",
    "        values = metrics[k]\n",
    "        metric_linear_combination = proportion[0]*values[0] +\\\n",
    "                                    proportion[1]*values[1] +\\\n",
    "                                    proportion[2]*values[2]\n",
    "        metrics[k] = [(metric_linear_combination, proportion), values]\n",
    "\n",
    "    metrics = {k: v for k, v in sorted(metrics.items(), key=lambda item: item[1][0][0], reverse=True)}\n",
    "\n",
    "    return metrics\n",
    "        \n",
    "def print_first_N(d, n=5):\n",
    "    i=0\n",
    "    for (k,v) in d.items():\n",
    "        print(k, v)\n",
    "        i+=1\n",
    "        if i==n:\n",
    "            break\n",
    "\n",
    "result_files = [f for f in os.listdir(results_path) if f.endswith('.txt')]\n",
    "\n",
    "metrics=dict()\n",
    "for file in result_files:\n",
    "    params = file[:-4]\n",
    "    metrics[params] = None\n",
    "    full_path = os.path.join(results_path, file)\n",
    "    with open(full_path) as fp:\n",
    "        for line in fp: \n",
    "            if 'Accuracy' in line:\n",
    "                metric = extract_metrics(line)\n",
    "            elif 'forward' in line or 'backward' in line:\n",
    "                metric.append(extract_time(line))\n",
    "    metrics[params] = metric\n",
    "\n",
    "metrics_100 = get_sort(metrics, [1,0,0])\n",
    "metrics_522 = get_sort(metrics, [0.5,0.25,0.25])\n",
    "metrics_055 = get_sort(metrics, [0,0.5,0.5])\n"
   ]
  },
  {
   "cell_type": "code",
   "execution_count": null,
   "metadata": {},
   "outputs": [],
   "source": [
    "print_first_N(metrics_100)"
   ]
  },
  {
   "cell_type": "code",
   "execution_count": null,
   "metadata": {},
   "outputs": [],
   "source": [
    "print_first_N(metrics_522)"
   ]
  },
  {
   "cell_type": "code",
   "execution_count": null,
   "metadata": {},
   "outputs": [],
   "source": [
    "print_first_N(metrics_055)"
   ]
  }
 ],
 "metadata": {
  "kernelspec": {
   "display_name": "Python 3.6.12 64-bit ('GCNN_GAP_graphgen': conda)",
   "language": "python",
   "name": "python361264bitgcnngapgraphgenconda31d76faa414b4778abf5b985fd4741c5"
  },
  "language_info": {
   "codemirror_mode": {
    "name": "ipython",
    "version": 3
   },
   "file_extension": ".py",
   "mimetype": "text/x-python",
   "name": "python",
   "nbconvert_exporter": "python",
   "pygments_lexer": "ipython3",
   "version": "3.6.12"
  }
 },
 "nbformat": 4,
 "nbformat_minor": 4
}
