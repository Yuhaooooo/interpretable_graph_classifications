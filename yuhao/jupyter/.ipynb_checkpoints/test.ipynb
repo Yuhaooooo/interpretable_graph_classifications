{
 "metadata": {
  "language_info": {
   "codemirror_mode": {
    "name": "ipython",
    "version": 3
   },
   "file_extension": ".py",
   "mimetype": "text/x-python",
   "name": "python",
   "nbconvert_exporter": "python",
   "pygments_lexer": "ipython3",
   "version": "3.7.6-final"
  },
  "orig_nbformat": 2,
  "kernelspec": {
   "name": "python3",
   "display_name": "Python 3",
   "language": "python"
  }
 },
 "nbformat": 4,
 "nbformat_minor": 2,
 "cells": [
  {
   "cell_type": "code",
   "execution_count": 3,
   "metadata": {},
   "outputs": [],
   "source": [
    "## For hyparams turning\n",
    "\n",
    "import os, sys\n",
    "\n",
    "rnn_type = 'GRU'\n",
    "# rnn_type = 'LSTM'\n",
    "dataset = 'MUTAG'\n",
    "\n",
    "results_path = '/home/FYP/heyu0012/projects/interpretable_graph_classifications/results/logs'\n",
    "\n",
    "results_path = os.path.join(results_path, rnn_type, 'turning', dataset)\n",
    "\n",
    "# mapping={\n",
    "#     'acc': 0,\n",
    "#     'roc': 1,\n",
    "#     'prc': 2,\n",
    "#     'forward': 3,\n",
    "#     'backward': 4\n",
    "# }\n",
    "\n",
    "def extract_metrics(s):\n",
    "    s = s.strip()\n",
    "    acc = round(float(s.split(' ')[2]),4)\n",
    "    roc = round(float(s.split(' ')[5]),4)\n",
    "    prc = round(float(s.split(' ')[8]),4)\n",
    "    return [acc, roc, prc]\n",
    "\n",
    "def extract_time(s):\n",
    "    s = s.strip()\n",
    "    return round(float(s.split(' ')[-1]),4)\n",
    "\n",
    "def get_sort(metrics, proportion=[1,0,0]):\n",
    "    # linear combination of metrics\n",
    "    metrics = metrics.copy()\n",
    "    for k in metrics.keys():\n",
    "        values = metrics[k]\n",
    "        metric_linear_combination = proportion[0]*values[0] +\\\n",
    "                                    proportion[1]*values[1] +\\\n",
    "                                    proportion[2]*values[2]\n",
    "        metrics[k] = [(metric_linear_combination, proportion), values]\n",
    "\n",
    "    metrics = {k: v for k, v in sorted(metrics.items(), key=lambda item: item[1][0][0], reverse=True)}\n",
    "\n",
    "    return metrics\n",
    "        \n",
    "def print_first_N(d, n=5):\n",
    "    i=0\n",
    "    for (k,v) in d.items():\n",
    "        print(k, v)\n",
    "        i+=1\n",
    "        if i==n:\n",
    "            break\n",
    "\n",
    "result_files = [f for f in os.listdir(results_path) if f.endswith('.txt')]\n",
    "\n",
    "metrics=dict()\n",
    "for file in result_files:\n",
    "    params = file[:-4]\n",
    "    metrics[params] = None\n",
    "    full_path = os.path.join(results_path, file)\n",
    "    with open(full_path) as fp:\n",
    "        for line in fp: \n",
    "            if 'Accuracy' in line:\n",
    "                metric = extract_metrics(line)\n",
    "            elif 'forward' in line or 'backward' in line:\n",
    "                metric.append(extract_time(line))\n",
    "    metrics[params] = metric\n",
    "\n",
    "metrics_100 = get_sort(metrics, [1,0,0])\n",
    "metrics_522 = get_sort(metrics, [0.5,0.25,0.25])\n",
    "metrics_055 = get_sort(metrics, [0,0.5,0.5])\n"
   ]
  },
  {
   "cell_type": "code",
   "execution_count": 12,
   "metadata": {},
   "outputs": [
    {
     "output_type": "stream",
     "name": "stdout",
     "text": [
      "E100_N1_e16_h4_n0_l0.01 [(0.665, [1, 0, 0]), [0.665, 0.508, 0.6714, 2.5192, 0.8743]]\nE100_N1_e16_h8_n0_l0.003 [(0.665, [1, 0, 0]), [0.665, 0.8242, 0.8645, 2.5068, 0.8681]]\nE100_N1_e16_h8_n0_l0.01 [(0.665, [1, 0, 0]), [0.665, 0.5, 0.665, 2.5063, 0.8655]]\nE100_N1_e4_h4_n0_l0.01 [(0.665, [1, 0, 0]), [0.665, 0.5726, 0.7091, 2.5207, 0.8748]]\nE100_N1_e4_h8_n0_l0.001 [(0.665, [1, 0, 0]), [0.665, 0.8906, 0.9444, 2.506, 0.8674]]\n"
     ]
    }
   ],
   "source": [
    "print_first_N(metrics_100)"
   ]
  },
  {
   "cell_type": "code",
   "execution_count": 4,
   "metadata": {},
   "outputs": [
    {
     "output_type": "stream",
     "name": "stdout",
     "text": [
      "E50_N1_e16_h8_n0_l0.003 [(0.7984, [0.5, 0.25, 0.25]), [0.665, 0.9089, 0.9547, 2.5813, 0.879]]\nE100_N1_e16_h8_n0_l0.001 [(0.798225, [0.5, 0.25, 0.25]), [0.6812, 0.8868, 0.9437, 2.516, 0.8587]]\nE100_N1_e16_h8_n0_l0.003 [(0.797875, [0.5, 0.25, 0.25]), [0.665, 0.9086, 0.9529, 2.4748, 0.8403]]\nE100_N1_e8_h4_n0_l0.001 [(0.7944499999999999, [0.5, 0.25, 0.25]), [0.7071, 0.8382, 0.9254, 2.579, 0.881]]\nE50_N1_e8_h8_n0_l0.003 [(0.7941500000000001, [0.5, 0.25, 0.25]), [0.665, 0.8993, 0.9473, 2.5768, 0.8753]]\n"
     ]
    }
   ],
   "source": [
    "print_first_N(metrics_522)"
   ]
  },
  {
   "cell_type": "code",
   "execution_count": 14,
   "metadata": {},
   "outputs": [
    {
     "output_type": "stream",
     "name": "stdout",
     "text": [
      "E50_N2_e4_h4_n0_l0.0003 [(0.929, [0, 0.5, 0.5]), [0.5245, 0.9075, 0.9505, 3.6639, 1.2958]]\nE100_N2_e4_h4_n0_l0.0003 [(0.92665, [0, 0.5, 0.5]), [0.5245, 0.9018, 0.9515, 3.7509, 1.328]]\nE50_N1_e16_h8_n1_l0.001 [(0.92405, [0, 0.5, 0.5]), [0.665, 0.9008, 0.9473, 2.9315, 0.9698]]\nE50_N1_e4_h8_n0_l0.001 [(0.92325, [0, 0.5, 0.5]), [0.665, 0.8963, 0.9502, 2.5123, 0.8712]]\nE50_N2_e4_h4_n1_l0.0003 [(0.9215500000000001, [0, 0.5, 0.5]), [0.5474, 0.896, 0.9471, 4.1593, 1.4242]]\n"
     ]
    }
   ],
   "source": [
    "print_first_N(metrics_055)"
   ]
  },
  {
   "cell_type": "code",
   "execution_count": null,
   "metadata": {},
   "outputs": [],
   "source": []
  }
 ]
}